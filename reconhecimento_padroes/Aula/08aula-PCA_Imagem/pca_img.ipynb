{
 "cells": [
  {
   "cell_type": "code",
   "execution_count": null,
   "metadata": {},
   "outputs": [],
   "source": [
    "import cv2\n",
    "import numpy as np\n",
    "import matplotlib.pyplot as plt\n",
    "from sklearn.decomposition import PCA"
   ]
  },
  {
   "cell_type": "code",
   "execution_count": null,
   "metadata": {},
   "outputs": [],
   "source": [
    "imagem = cv2.imread('CamposFloridos.jpg')\n",
    "imagem = cv2.cvtColor(imagem, cv2.COLOR_BGR2RGB)\n",
    "imagem.shape"
   ]
  },
  {
   "cell_type": "code",
   "execution_count": null,
   "metadata": {},
   "outputs": [],
   "source": [
    "(r, g, b) = cv2.split(imagem)\n",
    "\n",
    "# normalizar a escala\n",
    "r, g, b = r/255, g/255, b/255\n",
    "\n",
    "plt.imshow(r)\n"
   ]
  },
  {
   "cell_type": "code",
   "execution_count": null,
   "metadata": {},
   "outputs": [],
   "source": [
    "pca_components = 50\n",
    "pca_r = PCA(n_components=pca_components)\n",
    "r_reduz = pca_r.fit_tranform(r)\n",
    "\n",
    "pca_g = PCA(n_components=pca_components)\n",
    "g_reduz = pca_g.fit_tranform(g)\n",
    "\n",
    "\n",
    "pca_b = PCA(n_components=pca_components)\n",
    "b_reduz = pca_b.fit_tranform(b)\n",
    "\n",
    "# para saber se foi reduzido\n",
    "# b_reduz.shape\n",
    "\n"
   ]
  },
  {
   "cell_type": "code",
   "execution_count": null,
   "metadata": {},
   "outputs": [],
   "source": [
    "junto = np.assarray([r_reduz, g_reduz, b_reduz])"
   ]
  },
  {
   "cell_type": "code",
   "execution_count": null,
   "metadata": {},
   "outputs": [],
   "source": [
    "# funçõa inverse transforme para reconstruir a partir dos dados originais\n",
    "\n",
    "recon_r = pca_r.inverse_transform(r_reduz)\n",
    "recon_g = pca_g.inverse_transform(g_reduz)\n",
    "recon_b = pca_b.inverse_transform(b_reduz)\n"
   ]
  },
  {
   "cell_type": "code",
   "execution_count": null,
   "metadata": {},
   "outputs": [],
   "source": [
    "img_recon = cv2.merge((recon_r, recon_g, recon_b))"
   ]
  },
  {
   "cell_type": "code",
   "execution_count": null,
   "metadata": {},
   "outputs": [],
   "source": [
    "plt.imshow(img_recon)"
   ]
  }
 ],
 "metadata": {
  "language_info": {
   "name": "python"
  }
 },
 "nbformat": 4,
 "nbformat_minor": 2
}

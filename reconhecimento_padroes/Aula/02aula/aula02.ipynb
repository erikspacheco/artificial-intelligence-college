{
 "cells": [
  {
   "cell_type": "code",
   "execution_count": 1,
   "metadata": {},
   "outputs": [
    {
     "ename": "ModuleNotFoundError",
     "evalue": "No module named 'mahotas'",
     "output_type": "error",
     "traceback": [
      "\u001b[1;31m---------------------------------------------------------------------------\u001b[0m",
      "\u001b[1;31mModuleNotFoundError\u001b[0m                       Traceback (most recent call last)",
      "Cell \u001b[1;32mIn[1], line 6\u001b[0m\n\u001b[0;32m      4\u001b[0m \u001b[38;5;28;01mimport\u001b[39;00m \u001b[38;5;21;01mnumpy\u001b[39;00m \u001b[38;5;28;01mas\u001b[39;00m \u001b[38;5;21;01mnp\u001b[39;00m\n\u001b[0;32m      5\u001b[0m \u001b[38;5;28;01mimport\u001b[39;00m \u001b[38;5;21;01mcv2\u001b[39;00m\n\u001b[1;32m----> 6\u001b[0m \u001b[38;5;28;01mimport\u001b[39;00m \u001b[38;5;21;01mmahotas\u001b[39;00m\n\u001b[0;32m      7\u001b[0m \u001b[38;5;28;01mfrom\u001b[39;00m \u001b[38;5;21;01mpylab\u001b[39;00m \u001b[38;5;28;01mimport\u001b[39;00m imshow, gray, show\n\u001b[0;32m      8\u001b[0m \u001b[38;5;28;01mfrom\u001b[39;00m \u001b[38;5;21;01mos\u001b[39;00m \u001b[38;5;28;01mimport\u001b[39;00m path\n",
      "\u001b[1;31mModuleNotFoundError\u001b[0m: No module named 'mahotas'"
     ]
    }
   ],
   "source": [
    "# Binarização de imagens\n",
    "# \n",
    "\n",
    "import numpy as np\n",
    "import cv2\n",
    "import mahotas\n",
    "from pylab import imshow, gray, show\n",
    "from os import path\n",
    "\n",
    "imagem = cv2.imread(\"./img/gato.jpg\")\n",
    "imagem = cv2.cvtColor(imagem, cv2.COLOR_BGR2GRAY)\n",
    "imagem0 = imagem.copy()\n",
    "\n",
    "#  Threshold Fixo\n",
    "# ret, bin = cv2.threshold(imagem, 160, 255, cv2.THRESH_BINARY)\n",
    "# cv2.imshow(\"Binarização de Imagem por Threshold\", bin)\n",
    "# cv2.waitKey(27)\n",
    "\n",
    "\n",
    "# Binarização OTSU\n",
    "T = mahotas.thresholding.otsu(imagem0)\n",
    "print(T)\n",
    "bin0 = imagem0.copy()\n",
    "bin[bin0 > T] = 255\n",
    "bin0[bin0 < 255] = 0\n",
    "# cv2 = cv2.bitwise_not(bin0) # inverte os valores do bit. Preto vira branco e branco vira preto\n",
    "cv2.imshow(\"Binarização por Otsu\", bin0)\n",
    "\n"
   ]
  },
  {
   "cell_type": "code",
   "execution_count": null,
   "metadata": {},
   "outputs": [],
   "source": [
    "import numpy as np\n",
    "import cv2\n",
    "\n",
    "imagem = cv2.imread('./img/gato.jpg')\n",
    "imagem = cv2.cvtColor(imagem, cv2.COLOR_BGR2GRAY)\n",
    "borrao = cv2.GaussianBlur(imagem, (5,5), 0)\n",
    "\n",
    "cannyA = cv2.Canny(borrao, 20, 120)\n",
    "cannyB = cv2.Canny(borrao, 70, 200)\n",
    "\n",
    "final = np.vstack([\n",
    "    np.hstack([cannyA, cannyB]),\n",
    "    np.hstack([imagem, borrao])\n",
    "])\n",
    "\n",
    "# cv2.imshow(\"Detector de Bordas Canny\", final)\n",
    "cv2.waitKey(27)"
   ]
  },
  {
   "cell_type": "code",
   "execution_count": null,
   "metadata": {},
   "outputs": [],
   "source": []
  }
 ],
 "metadata": {
  "kernelspec": {
   "display_name": "Python 3",
   "language": "python",
   "name": "python3"
  },
  "language_info": {
   "codemirror_mode": {
    "name": "ipython",
    "version": 3
   },
   "file_extension": ".py",
   "mimetype": "text/x-python",
   "name": "python",
   "nbconvert_exporter": "python",
   "pygments_lexer": "ipython3",
   "version": "3.12.0"
  }
 },
 "nbformat": 4,
 "nbformat_minor": 2
}

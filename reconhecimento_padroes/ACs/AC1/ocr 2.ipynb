{
 "cells": [
  {
   "cell_type": "code",
   "execution_count": 6,
   "metadata": {},
   "outputs": [
    {
     "name": "stdout",
     "output_type": "stream",
     "text": [
      "Gerando OCR...\n",
      "OCR Result:\n",
      "The Raven\n",
      "\n",
      "BY EDGAR ALLAN POE\n",
      "\n",
      "Once upon a midnight dreary, while I pondered, weak and weary,\n",
      "Over many a quaint and curious volume of forgotten lore—\n",
      "While I nodded, nearly napping, suddenly there came a tapping,\n",
      "As of some one gently rapping, rapping at my chamber door.\n",
      "“Tis some visitor,” I muttered, “tapping at my chamber door—\n",
      "Only this and nothing more.”\n",
      "\n",
      "Ah, es fatal que lo recuerde! Fue en un tétrico diciembre;\n",
      "rojo espectro enviaba al suelo cada brasa del hogar.\n",
      "\n",
      "Yo, leyendo, combatia mi mortal melancolía\n",
      "\n",
      "por la virgen clara y única que ya en vano he de nombrar,\n",
      "la que se llama Leonora por los ángeles nombrar,\n",
      "\n",
      "ah por ellos, nada mas!\n",
      "\n",
      "Como, a tremer frio e frouxo, cada reposteiro roxo\n",
      "\n",
      "Me incutia, urdia estranhos terrores nunca antes tais!\n",
      "Mas, a mim mesmo infundido força, eu ia repetindo,\n",
      "“E uma visita pedindo entrada aqui em meus umbrais;\n",
      "Uma visita tardia pede entrada em meus umbrais.\n",
      "\n",
      "É só isto, e nada mais”.\n",
      "\n",
      "\n"
     ]
    }
   ],
   "source": [
    "import pytesseract\n",
    "pytesseract.pytesseract.tesseract_cmd = r'C:\\Users\\e.godoy\\AppData\\Local\\Programs\\Tesseract-OCR\\tesseract.exe'\n",
    "from PIL import Image\n",
    "def perform_ocr(image_path):\n",
    "    image = Image.open(image_path)\n",
    "    text = pytesseract.image_to_string(image, lang=\"eng+por+spa\")\n",
    "    return text\n",
    "\n",
    "image_path = \"./TheRaven.png\"\n",
    "print(\"Gerando OCR...\")\n",
    "ocr_text = perform_ocr(image_path)\n",
    "print(\"OCR Result:\")\n",
    "print(ocr_text)\n",
    "print()"
   ]
  }
 ],
 "metadata": {
  "kernelspec": {
   "display_name": "Python 3",
   "language": "python",
   "name": "python3"
  },
  "language_info": {
   "codemirror_mode": {
    "name": "ipython",
    "version": 3
   },
   "file_extension": ".py",
   "mimetype": "text/x-python",
   "name": "python",
   "nbconvert_exporter": "python",
   "pygments_lexer": "ipython3",
   "version": "3.10.11"
  }
 },
 "nbformat": 4,
 "nbformat_minor": 2
}

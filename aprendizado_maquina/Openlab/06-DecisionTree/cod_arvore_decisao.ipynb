{
    "cells": [
      {
        "cell_type": "code",
        "execution_count": null,
        "metadata": {
          "colab": {
            "background_save": true
          },
          "id": "tscGL7cmDjfi"
        },
        "outputs": [],
        "source": [
          "import numpy as np\n",
          "import matplotlib.pyplot as plt\n",
          "import pandas as pd"
        ]
      },
      {
        "cell_type": "code",
        "execution_count": null,
        "metadata": {
          "id": "oaDv5NqBmmuU"
        },
        "outputs": [],
        "source": [
          "from google.colab import drive\n",
          "drive.mount('/content/drive')\n",
          "dataset = pd.read_csv('/content/drive/MyDrive/Colab Notebooks (1)/Bandtec/Aula4_ArvoresDeDecisao/Social_Network_Ads.csv')\n",
          "X = dataset.iloc[:, :-1].values\n",
          "y = dataset.iloc[:, -1].values"
        ]
      },
      {
        "cell_type": "code",
        "execution_count": null,
        "metadata": {
          "id": "OJ3evZx5myB-"
        },
        "outputs": [],
        "source": [
          "from sklearn.model_selection import train_test_split\n",
          "X_train, X_test, y_train, y_test = train_test_split(X, y, test_size = 0.20, random_state = 42)"
        ]
      },
      {
        "cell_type": "code",
        "execution_count": null,
        "metadata": {
          "id": "eA-MOQhxm5Ss"
        },
        "outputs": [],
        "source": [
          "from sklearn.tree import DecisionTreeClassifier\n",
          "classifier = DecisionTreeClassifier(random_state=42)\n",
          "classifier.fit(X_train, y_train)"
        ]
      },
      {
        "cell_type": "code",
        "execution_count": null,
        "metadata": {
          "id": "orySkWakn7do"
        },
        "outputs": [],
        "source": [
          "print(classifier.predict([[45,87000]]))"
        ]
      },
      {
        "cell_type": "code",
        "execution_count": null,
        "metadata": {
          "id": "8P4YP8kaoeZI"
        },
        "outputs": [],
        "source": [
          "y_pred = classifier.predict(X_test)"
        ]
      },
      {
        "cell_type": "markdown",
        "metadata": {
          "id": "oYJemZ0cooNu"
        },
        "source": [
          "# Matriz de Confusão"
        ]
      },
      {
        "cell_type": "code",
        "execution_count": null,
        "metadata": {
          "id": "JDTdcj_zorqJ"
        },
        "outputs": [],
        "source": [
          "from sklearn.metrics import confusion_matrix, accuracy_score, f1_score, precision_score, recall_score\n",
          "cm = confusion_matrix(y_test, y_pred)\n",
          "print(cm)\n",
          "print(accuracy_score(y_test, y_pred))\n",
          "print(precision_score(y_test, y_pred))\n",
          "print(recall_score(y_test, y_pred))\n"
        ]
      },
      {
        "cell_type": "markdown",
        "metadata": {
          "id": "TQ_4DPxQpf2U"
        },
        "source": [
          "Propriedades do Classificador"
        ]
      },
      {
        "cell_type": "code",
        "execution_count": null,
        "metadata": {
          "id": "AQWpESmMpEWW"
        },
        "outputs": [],
        "source": [
          "print(classifier.predict_proba([[45,87000]]))\n",
          "\n",
          "print(classifier.classes_)\n",
          "\n",
          "print(classifier.max_features_)\n",
          "\n",
          "print(classifier.feature_importances_)\n",
          "\n",
          "print(classifier.n_features_in_)"
        ]
      },
      {
        "cell_type": "markdown",
        "metadata": {
          "id": "85NuBwpesn_k"
        },
        "source": [
          "Visualizar dados de treinamento\n",
          "\n",
          " \n",
          "\n"
        ]
      },
      {
        "cell_type": "code",
        "execution_count": null,
        "metadata": {
          "colab": {
            "background_save": true
          },
          "id": "tya0FiT9sjTv"
        },
        "outputs": [],
        "source": [
          "from matplotlib.colors import ListedColormap\n",
          "#X_set, y_set = sc.inverse_transform(X_train), y_train\n",
          "X_set, y_set = X_train, y_train\n",
          "\n",
          "X1, X2 = np.meshgrid(np.arange(start = X_set[:, 0].min() - 10, stop = X_set[:, 0].max() + 10, step = 0.25),\n",
          "                     np.arange(start = X_set[:, 1].min() - 1000, stop = X_set[:, 1].max() + 1000, step = 0.25))\n",
          "#plt.contourf(X1, X2, classifier.predict(sc.transform(np.array([X1.ravel(), X2.ravel()]).T)).reshape(X1.shape), alpha = 0.75, cmap = ListedColormap(('red', 'green')))\n",
          "plt.contourf(X1, X2, classifier.predict((np.array([X1.ravel(), X2.ravel()]).T)).reshape(X1.shape), alpha = 0.75, cmap = ListedColormap(('pink', 'green')))\n",
          "plt.xlim(X1.min(), X1.max())\n",
          "plt.ylim(X2.min(), X2.max())\n",
          "for i, j in enumerate(np.unique(y_set)):\n",
          "    plt.scatter(X_set[y_set == j, 0], X_set[y_set == j, 1], c = ListedColormap(('red', 'green'))(i), label = j)\n",
          "plt.title('Decision Tree Classification (Training set)')\n",
          "plt.xlabel('Age')\n",
          "plt.ylabel('Estimated Salary')\n",
          "plt.legend()\n",
          "plt.show()"
        ]
      },
      {
        "cell_type": "markdown",
        "metadata": {
          "id": "ACiHHJoYstTa"
        },
        "source": [
          "Visualizar dados de teste"
        ]
      },
      {
        "cell_type": "code",
        "execution_count": null,
        "metadata": {
          "colab": {
            "background_save": true
          },
          "id": "oDixGBsIsxPC"
        },
        "outputs": [],
        "source": [
          "from matplotlib.colors import ListedColormap\n",
          "#X_set, y_set = sc.inverse_transform(X_test), y_test\n",
          "X_set, y_set = X_test, y_test\n",
          "X1, X2 = np.meshgrid(np.arange(start = X_set[:, 0].min() - 10, stop = X_set[:, 0].max() + 10, step = 0.25),\n",
          "                     np.arange(start = X_set[:, 1].min() - 1000, stop = X_set[:, 1].max() + 1000, step = 0.25))\n",
          "#plt.contourf(X1, X2, classifier.predict(sc.transform(np.array([X1.ravel(), X2.ravel()]).T)).reshape(X1.shape), alpha = 0.75, cmap = ListedColormap(('red', 'green')))\n",
          "plt.contourf(X1, X2, classifier.predict((np.array([X1.ravel(), X2.ravel()]).T)).reshape(X1.shape), alpha = 0.75, cmap = ListedColormap(('pink', 'green')))\n",
          "\n",
          "plt.xlim(X1.min(), X1.max())\n",
          "plt.ylim(X2.min(), X2.max())\n",
          "for i, j in enumerate(np.unique(y_set)):\n",
          "    plt.scatter(X_set[y_set == j, 0], X_set[y_set == j, 1], c = ListedColormap(('red', 'green'))(i), label = j)\n",
          "plt.title('Decision Tree Classification (Test set)')\n",
          "plt.xlabel('Age')\n",
          "plt.ylabel('Estimated Salary')\n",
          "plt.legend()\n",
          "plt.show()"
        ]
      }
    ],
    "metadata": {
      "colab": {
        "provenance": []
      },
      "kernelspec": {
        "display_name": "Python 3",
        "name": "python3"
      },
      "language_info": {
        "name": "python"
      }
    },
    "nbformat": 4,
    "nbformat_minor": 0
  }
{
 "cells": [
  {
   "cell_type": "code",
   "execution_count": 14,
   "metadata": {},
   "outputs": [],
   "source": [
    "from sklearn.datasets import fetch_openml\n",
    "from sklearn.model_selection import train_test_split\n",
    "from sklearn.svm import SVC\n",
    "from sklearn.metrics import accuracy_score\n",
    "from sklearn.model_selection import GridSearchCV"
   ]
  },
  {
   "cell_type": "code",
   "execution_count": 15,
   "metadata": {},
   "outputs": [],
   "source": [
    "# Carregar o conjunto de dados MNIST\n",
    "mnist = fetch_openml('mnist_784', version=1)\n",
    "\n",
    "proporcao_amostra = 0.15\n",
    "\n",
    "# Dividir o conjunto de dados em conjuntos de treinamento e teste\n",
    "X_train, X_test, y_train, y_test = train_test_split(mnist.data, mnist.target, test_size=0.2, random_state=42)\n",
    "\n",
    "# Dividir o conjunto de treinamento novamente para obter uma amostra\n",
    "X_train_amostra, _, y_train_amostra, _ = train_test_split(X_train, y_train, train_size=proporcao_amostra, random_state=42)"
   ]
  },
  {
   "cell_type": "code",
   "execution_count": 16,
   "metadata": {},
   "outputs": [],
   "source": [
    "# Definir os parâmetros a serem testados\n",
    "param_grid = {\n",
    "    'C': [0.1, 1, 10],\n",
    "    'gamma': [0.001, 0.01, 0.1],\n",
    "}\n",
    "\n",
    "# Testar diferentes kernels\n",
    "kernels = ['linear', 'poly', 'rbf']"
   ]
  },
  {
   "cell_type": "code",
   "execution_count": 17,
   "metadata": {},
   "outputs": [
    {
     "name": "stdout",
     "output_type": "stream",
     "text": [
      "Kernel: linear\n",
      "Acurácia com os melhores parâmetros: 0.9067857142857143\n",
      "Melhores parâmetros encontrados: {'C': 0.1, 'gamma': 0.001}\n",
      "Kernel: poly\n",
      "Acurácia com os melhores parâmetros: 0.9652142857142857\n",
      "Melhores parâmetros encontrados: {'C': 0.1, 'gamma': 0.001}\n",
      "Kernel: rbf\n"
     ]
    }
   ],
   "source": [
    "for kernel in kernels:\n",
    "    print(f\"Kernel: {kernel}\")\n",
    "    \n",
    "    # Criar o classificador SVC\n",
    "    svc = SVC(kernel=kernel)\n",
    "    \n",
    "    # Realizar a busca em grade para encontrar os melhores parâmetros\n",
    "    grid_search = GridSearchCV(svc, param_grid, cv=3, n_jobs=-1)\n",
    "    grid_search.fit(X_train_amostra, y_train_amostra)\n",
    "    \n",
    "    # Avaliar o modelo com os melhores parâmetros\n",
    "    best_svc = grid_search.best_estimator_\n",
    "    y_pred = best_svc.predict(X_test)\n",
    "    accuracy = accuracy_score(y_test, y_pred)\n",
    "    print(f\"Acurácia com os melhores parâmetros: {accuracy}\")\n",
    "    print(f\"Melhores parâmetros encontrados: {grid_search.best_params_}\")"
   ]
  }
 ],
 "metadata": {
  "kernelspec": {
   "display_name": "Python 3",
   "language": "python",
   "name": "python3"
  },
  "language_info": {
   "codemirror_mode": {
    "name": "ipython",
    "version": 3
   },
   "file_extension": ".py",
   "mimetype": "text/x-python",
   "name": "python",
   "nbconvert_exporter": "python",
   "pygments_lexer": "ipython3",
   "version": "3.11.0"
  }
 },
 "nbformat": 4,
 "nbformat_minor": 2
}

{
 "cells": [
  {
   "cell_type": "code",
   "execution_count": 1,
   "metadata": {},
   "outputs": [],
   "source": [
    "from sklearn.datasets import fetch_openml\n",
    "from sklearn.model_selection import train_test_split\n",
    "from sklearn.svm import SVC\n",
    "from sklearn.metrics import accuracy_score\n",
    "from sklearn.model_selection import GridSearchCV"
   ]
  },
  {
   "cell_type": "code",
   "execution_count": 10,
   "metadata": {},
   "outputs": [],
   "source": [
    "# Carregar o conjunto de dados MNIST\n",
    "mnist = fetch_openml('mnist_784', version=1)\n",
    "\n",
    "# Dividir o conjunto de dados em conjuntos de treinamento e teste\n",
    "# X_train, X_test, y_train, y_test = train_test_split(mnist.data, mnist.target, train_size=0.4, test_size=0.05, random_state=42)\n",
    "\n",
    "\n",
    "X_train, X_remaining, y_train, y_remaining = train_test_split(mnist.data, mnist.target, train_size=0.2, random_state=42)\n",
    "\n",
    "# Descartar o restante dos dados (50% que não serão usados)\n",
    "# Não precisamos do X_remaining e y_remaining se estamos usando apenas 50% dos dados\n",
    "del X_remaining, y_remaining\n",
    "\n",
    "# Agora, dividir os dados de treinamento e teste normalmente, usando 80% para treinamento e 20% para teste\n",
    "X_train_amostra, X_test, y_train_amostra, y_test = train_test_split(X_train, y_train, train_size=0.8, test_size=0.2, random_state=42)\n"
   ]
  },
  {
   "cell_type": "code",
   "execution_count": 11,
   "metadata": {},
   "outputs": [],
   "source": [
    "# Definir os parâmetros a serem testados\n",
    "param_grid = {\n",
    "    'C': [0.1, 1, 10],\n",
    "    'gamma': [0.001, 0.01, 0.1],\n",
    "}\n",
    "\n",
    "# Testar diferentes kernels\n",
    "kernels = ['linear', 'poly', 'rbf']"
   ]
  },
  {
   "cell_type": "code",
   "execution_count": null,
   "metadata": {},
   "outputs": [],
   "source": [
    "for kernel in kernels:\n",
    "    print(f\"Kernel: {kernel}\")\n",
    "    \n",
    "    # Criar o classificador SVC\n",
    "    svc = SVC(kernel=kernel)\n",
    "    \n",
    "    # Realizar a busca em grade para encontrar os melhores parâmetros\n",
    "    grid_search = GridSearchCV(svc, param_grid, cv=3, n_jobs=4)\n",
    "    grid_search.fit(X_train_amostra, y_train_amostra)\n",
    "    \n",
    "    # Avaliar o modelo com os melhores parâmetros\n",
    "    best_svc = grid_search.best_estimator_\n",
    "    y_pred = best_svc.predict(X_test)\n",
    "    accuracy = accuracy_score(y_test, y_pred)\n",
    "    print(f\"Acurácia com os melhores parâmetros: {accuracy}\")\n",
    "    print(f\"Melhores parâmetros encontrados: {grid_search.best_params_}\")"
   ]
  }
 ],
 "metadata": {
  "kernelspec": {
   "display_name": "Python 3",
   "language": "python",
   "name": "python3"
  },
  "language_info": {
   "codemirror_mode": {
    "name": "ipython",
    "version": 3
   },
   "file_extension": ".py",
   "mimetype": "text/x-python",
   "name": "python",
   "nbconvert_exporter": "python",
   "pygments_lexer": "ipython3",
   "version": "3.12.0"
  }
 },
 "nbformat": 4,
 "nbformat_minor": 2
}
